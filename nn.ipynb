{
 "cells": [
  {
   "cell_type": "code",
   "execution_count": 5,
   "metadata": {},
   "outputs": [],
   "source": [
    "import os\n",
    "import torch\n",
    "from torch import nn\n",
    "from torch.utils.data import DataLoader \n",
    "from torchvision import datasets, transforms"
   ]
  },
  {
   "cell_type": "code",
   "execution_count": 6,
   "metadata": {},
   "outputs": [
    {
     "name": "stdout",
     "output_type": "stream",
     "text": [
      "Using cpu device\n"
     ]
    }
   ],
   "source": [
    "device = \"cpu\" \n",
    "\n",
    "print(f\"Using {device} device\")"
   ]
  },
  {
   "cell_type": "code",
   "execution_count": 7,
   "metadata": {},
   "outputs": [],
   "source": [
    "class NeuralNetwork(nn.Module):\n",
    "    def __init__(self):\n",
    "        super().__init__()\n",
    "        self.flatten = nn.Flatten()\n",
    "        self.linear_relu_stack = nn.Sequential(\n",
    "            nn.Linear(28*28, 512),\n",
    "            nn.ReLU(),\n",
    "            nn.Linear(512,512),\n",
    "            nn.ReLU(),\n",
    "            nn.Linear(512,10)\n",
    "        )\n",
    "    \n",
    "    def forward(self,x):\n",
    "        x = self.flatten(x)\n",
    "        logits = self.linear_relu_stack(x)\n",
    "        return logits"
   ]
  },
  {
   "cell_type": "code",
   "execution_count": 8,
   "metadata": {},
   "outputs": [
    {
     "name": "stdout",
     "output_type": "stream",
     "text": [
      "NeuralNetwork(\n",
      "  (flatten): Flatten(start_dim=1, end_dim=-1)\n",
      "  (linear_relu_stack): Sequential(\n",
      "    (0): Linear(in_features=784, out_features=512, bias=True)\n",
      "    (1): ReLU()\n",
      "    (2): Linear(in_features=512, out_features=512, bias=True)\n",
      "    (3): ReLU()\n",
      "    (4): Linear(in_features=512, out_features=10, bias=True)\n",
      "  )\n",
      ")\n"
     ]
    }
   ],
   "source": [
    "model = NeuralNetwork().to(device)\n",
    "print(model)"
   ]
  },
  {
   "cell_type": "code",
   "execution_count": 9,
   "metadata": {},
   "outputs": [
    {
     "name": "stdout",
     "output_type": "stream",
     "text": [
      "Predicted class: tensor([7])\n"
     ]
    }
   ],
   "source": [
    "X = torch.rand(1,28,28, device=device)\n",
    "\n",
    "logits = model(X)\n",
    "pred_probab = nn.Softmax(dim=1)(logits)\n",
    "y_pred = pred_probab.argmax(1)\n",
    "print(f\"Predicted class: {y_pred}\")"
   ]
  },
  {
   "cell_type": "markdown",
   "metadata": {},
   "source": [
    "## import image"
   ]
  },
  {
   "cell_type": "code",
   "execution_count": null,
   "metadata": {},
   "outputs": [],
   "source": [
    "from PIL import Image\n",
    "from torchvision import transforms\n",
    "\n",
    "# Load the image\n",
    "img = Image.open('img/boukaih-pRS6itEjhyI-unsplash.jpg')\n",
    "\n",
    "# Define transformations (e.g., resize and convert to tensor)\n",
    "transform = transforms.Compose([\n",
    "    transforms.Resize((28, 28)),  # Resize to 28x28 (optional)\n",
    "    transforms.ToTensor()           # Convert to tensor\n",
    "])\n",
    "\n",
    "# Apply transformations\n",
    "img_tensor = transform(img)\n"
   ]
  },
  {
   "cell_type": "code",
   "execution_count": 20,
   "metadata": {},
   "outputs": [
    {
     "name": "stdout",
     "output_type": "stream",
     "text": [
      "torch.Size([3, 784])\n"
     ]
    }
   ],
   "source": [
    "flatten = nn.Flatten()\n",
    "flat_image = flatten(img_tensor)\n",
    "print(flat_image.size())"
   ]
  },
  {
   "cell_type": "code",
   "execution_count": 21,
   "metadata": {},
   "outputs": [
    {
     "name": "stdout",
     "output_type": "stream",
     "text": [
      "tensor([[-0.3297,  0.1059,  0.2643, -0.3207,  0.2047, -0.2989,  0.2150,  0.3640,\n",
      "          0.3072, -0.1378, -0.2802, -0.1616,  0.2755,  0.0300,  0.0729,  0.2965,\n",
      "          0.2426,  0.1513, -0.1517, -0.2627],\n",
      "        [-0.1063, -0.0663,  0.1321, -0.2300,  0.1478, -0.1598,  0.1374,  0.3017,\n",
      "          0.2412, -0.0572, -0.1537, -0.0278,  0.1791, -0.0111,  0.1348,  0.1161,\n",
      "          0.0619,  0.0234,  0.0760, -0.1760],\n",
      "        [-0.1119, -0.0678,  0.0292, -0.1647,  0.0888, -0.1715,  0.0959,  0.1545,\n",
      "          0.1190, -0.0844,  0.0535,  0.0286,  0.0182,  0.0329,  0.0841, -0.0016,\n",
      "         -0.0263, -0.0348,  0.0127, -0.2598]], grad_fn=<AddmmBackward0>)\n"
     ]
    }
   ],
   "source": [
    "layer1 = nn.Linear(in_features=28*28, out_features=20)\n",
    "hidden1 = layer1(flat_image)\n",
    "print(hidden1)"
   ]
  },
  {
   "cell_type": "code",
   "execution_count": 22,
   "metadata": {},
   "outputs": [
    {
     "name": "stdout",
     "output_type": "stream",
     "text": [
      "Before ReLU: tensor([[-0.3297,  0.1059,  0.2643, -0.3207,  0.2047, -0.2989,  0.2150,  0.3640,\n",
      "          0.3072, -0.1378, -0.2802, -0.1616,  0.2755,  0.0300,  0.0729,  0.2965,\n",
      "          0.2426,  0.1513, -0.1517, -0.2627],\n",
      "        [-0.1063, -0.0663,  0.1321, -0.2300,  0.1478, -0.1598,  0.1374,  0.3017,\n",
      "          0.2412, -0.0572, -0.1537, -0.0278,  0.1791, -0.0111,  0.1348,  0.1161,\n",
      "          0.0619,  0.0234,  0.0760, -0.1760],\n",
      "        [-0.1119, -0.0678,  0.0292, -0.1647,  0.0888, -0.1715,  0.0959,  0.1545,\n",
      "          0.1190, -0.0844,  0.0535,  0.0286,  0.0182,  0.0329,  0.0841, -0.0016,\n",
      "         -0.0263, -0.0348,  0.0127, -0.2598]], grad_fn=<AddmmBackward0>)\n",
      "\n",
      "\n",
      "After ReLU: tensor([[0.0000, 0.1059, 0.2643, 0.0000, 0.2047, 0.0000, 0.2150, 0.3640, 0.3072,\n",
      "         0.0000, 0.0000, 0.0000, 0.2755, 0.0300, 0.0729, 0.2965, 0.2426, 0.1513,\n",
      "         0.0000, 0.0000],\n",
      "        [0.0000, 0.0000, 0.1321, 0.0000, 0.1478, 0.0000, 0.1374, 0.3017, 0.2412,\n",
      "         0.0000, 0.0000, 0.0000, 0.1791, 0.0000, 0.1348, 0.1161, 0.0619, 0.0234,\n",
      "         0.0760, 0.0000],\n",
      "        [0.0000, 0.0000, 0.0292, 0.0000, 0.0888, 0.0000, 0.0959, 0.1545, 0.1190,\n",
      "         0.0000, 0.0535, 0.0286, 0.0182, 0.0329, 0.0841, 0.0000, 0.0000, 0.0000,\n",
      "         0.0127, 0.0000]], grad_fn=<ReluBackward0>)\n"
     ]
    }
   ],
   "source": [
    "print(f\"Before ReLU: {hidden1}\\n\\n\")\n",
    "hidden1 = nn.ReLU()(hidden1)\n",
    "print(f\"After ReLU: {hidden1}\")"
   ]
  },
  {
   "cell_type": "code",
   "execution_count": 25,
   "metadata": {},
   "outputs": [],
   "source": [
    "seq_modules = nn.Sequential(\n",
    "    flatten,\n",
    "    layer1,\n",
    "    nn.ReLU(),\n",
    "    nn.Linear(20,10)\n",
    ")\n",
    "logits = seq_modules(img_tensor)"
   ]
  },
  {
   "cell_type": "code",
   "execution_count": 26,
   "metadata": {},
   "outputs": [],
   "source": [
    "softmax = nn.Softmax(dim=1)\n",
    "pred_probab = softmax(logits)"
   ]
  },
  {
   "cell_type": "code",
   "execution_count": 27,
   "metadata": {},
   "outputs": [
    {
     "name": "stdout",
     "output_type": "stream",
     "text": [
      "Model structure: NeuralNetwork(\n",
      "  (flatten): Flatten(start_dim=1, end_dim=-1)\n",
      "  (linear_relu_stack): Sequential(\n",
      "    (0): Linear(in_features=784, out_features=512, bias=True)\n",
      "    (1): ReLU()\n",
      "    (2): Linear(in_features=512, out_features=512, bias=True)\n",
      "    (3): ReLU()\n",
      "    (4): Linear(in_features=512, out_features=10, bias=True)\n",
      "  )\n",
      ")\n",
      "\n",
      "\n",
      "Layer: linear_relu_stack.0.weight | Size: torch.Size([512, 784]) | Values: tensor([[-0.0146,  0.0332,  0.0298,  ..., -0.0319,  0.0203,  0.0026],\n",
      "        [ 0.0333,  0.0195,  0.0290,  ...,  0.0125,  0.0082,  0.0131]],\n",
      "       grad_fn=<SliceBackward0>) \n",
      "\n",
      "Layer: linear_relu_stack.0.bias | Size: torch.Size([512]) | Values: tensor([-0.0349, -0.0038], grad_fn=<SliceBackward0>) \n",
      "\n",
      "Layer: linear_relu_stack.2.weight | Size: torch.Size([512, 512]) | Values: tensor([[ 0.0296,  0.0304,  0.0365,  ...,  0.0356,  0.0396, -0.0140],\n",
      "        [-0.0190,  0.0371, -0.0345,  ..., -0.0355,  0.0284, -0.0126]],\n",
      "       grad_fn=<SliceBackward0>) \n",
      "\n",
      "Layer: linear_relu_stack.2.bias | Size: torch.Size([512]) | Values: tensor([-0.0180,  0.0083], grad_fn=<SliceBackward0>) \n",
      "\n",
      "Layer: linear_relu_stack.4.weight | Size: torch.Size([10, 512]) | Values: tensor([[ 0.0336, -0.0338,  0.0202,  ..., -0.0418, -0.0062, -0.0350],\n",
      "        [-0.0267,  0.0038, -0.0185,  ...,  0.0253, -0.0003, -0.0226]],\n",
      "       grad_fn=<SliceBackward0>) \n",
      "\n",
      "Layer: linear_relu_stack.4.bias | Size: torch.Size([10]) | Values: tensor([-0.0161, -0.0432], grad_fn=<SliceBackward0>) \n",
      "\n"
     ]
    }
   ],
   "source": [
    "print(f\"Model structure: {model}\\n\\n\")\n",
    "\n",
    "for name, param in model.named_parameters():\n",
    "    print(f\"Layer: {name} | Size: {param.size()} | Values: {param[:2]} \\n\")"
   ]
  }
 ],
 "metadata": {
  "kernelspec": {
   "display_name": "dev",
   "language": "python",
   "name": "python3"
  },
  "language_info": {
   "codemirror_mode": {
    "name": "ipython",
    "version": 3
   },
   "file_extension": ".py",
   "mimetype": "text/x-python",
   "name": "python",
   "nbconvert_exporter": "python",
   "pygments_lexer": "ipython3",
   "version": "3.12.3"
  }
 },
 "nbformat": 4,
 "nbformat_minor": 2
}
